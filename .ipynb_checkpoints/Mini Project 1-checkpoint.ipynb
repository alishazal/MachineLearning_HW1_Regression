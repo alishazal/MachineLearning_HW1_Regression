{
 "cells": [
  {
   "cell_type": "markdown",
   "metadata": {},
   "source": [
    "# Mini Project 1"
   ]
  },
  {
   "cell_type": "markdown",
   "metadata": {},
   "source": [
    "## Part 1: Linear Regression"
   ]
  },
  {
   "cell_type": "code",
   "execution_count": 1,
   "metadata": {},
   "outputs": [],
   "source": [
    "import numpy as np\n",
    "import matplotlib.pyplot as plt\n",
    "import math"
   ]
  },
  {
   "cell_type": "markdown",
   "metadata": {},
   "source": [
    "### Get Data"
   ]
  },
  {
   "cell_type": "code",
   "execution_count": 2,
   "metadata": {
    "scrolled": true
   },
   "outputs": [
    {
     "data": {
      "text/plain": [
       "[<matplotlib.lines.Line2D at 0x112eb2198>]"
      ]
     },
     "execution_count": 2,
     "metadata": {},
     "output_type": "execute_result"
    },
    {
     "data": {
      "image/png": "[encoded data removed]",
      "text/plain": [
       "<Figure size 432x288 with 1 Axes>"
      ]
     },
     "metadata": {
      "needs_background": "light"
     },
     "output_type": "display_data"
    }
   ],
   "source": [
    "X, y = [], []\n",
    "\n",
    "# Reading the data file\n",
    "file1 = open(\"ex1data1.mat\", \"r\")\n",
    "for line in file1.readlines():\n",
    "    xy = line.strip(\"\\n\").split(\",\")\n",
    "    X.append([float(xy[0])])\n",
    "    y.append([float(xy[1])])\n",
    "\n",
    "X = np.array(X)\n",
    "y = np.array(y)\n",
    "biasedX = np.c_[np.ones((X.size, 1)), X]\n",
    "\n",
    "# Lets look at the data extracted\n",
    "plt.plot(X,y, \".b\")"
   ]
  },
  {
   "cell_type": "markdown",
   "metadata": {},
   "source": [
    "### Calculate Parameters A & B"
   ]
  },
  {
   "cell_type": "code",
   "execution_count": 3,
   "metadata": {
    "scrolled": true
   },
   "outputs": [
    {
     "name": "stdout",
     "output_type": "stream",
     "text": [
      "Finally, a is [1.12174074] and b is [-3.18612231]\n"
     ]
    }
   ],
   "source": [
    "#Linear Regression with Gradient Descent\n",
    "lRate = 0.001\n",
    "itrs = 5000\n",
    "m = X.size\n",
    "theta = np.random.randn(2,1)\n",
    "cost = []\n",
    "\n",
    "for iteration in range(itrs):\n",
    "    currCost = biasedX.dot(theta) - y\n",
    "    gradients = 2/m * biasedX.T.dot(currCost)\n",
    "    theta = theta - lRate * gradients\n",
    "    cost.append(np.mean(currCost**2))\n",
    "\n",
    "print(\"Finally, a is\", theta[1], \"and b is\", theta[0])"
   ]
  },
  {
   "cell_type": "markdown",
   "metadata": {},
   "source": [
    "### Graph of Output Line and Input Data"
   ]
  },
  {
   "cell_type": "code",
   "execution_count": 4,
   "metadata": {},
   "outputs": [
    {
     "data": {
      "text/plain": [
       "[<matplotlib.lines.Line2D at 0x1129c47b8>]"
      ]
     },
     "execution_count": 4,
     "metadata": {},
     "output_type": "execute_result"
    },
    {
     "data": {
      "image/png": "[encoded data removed]",
      "text/plain": [
       "<Figure size 432x288 with 1 Axes>"
      ]
     },
     "metadata": {
      "needs_background": "light"
     },
     "output_type": "display_data"
    }
   ],
   "source": [
    "outX = np.array([[np.amin(X)], [np.amax(X)]])\n",
    "biasedOutX = np.c_[np.ones((2, 1)), outX]  # add x0 = 1 to each instance\n",
    "predictedY = biasedOutX.dot(theta)\n",
    "plt.plot(X, y, \"b.\")\n",
    "plt.plot(outX, predictedY, \"r\")"
   ]
  },
  {
   "cell_type": "markdown",
   "metadata": {},
   "source": [
    "### Graph of Cost Curve"
   ]
  },
  {
   "cell_type": "code",
   "execution_count": 5,
   "metadata": {},
   "outputs": [
    {
     "data": {
      "text/plain": [
       "Text(0.5, 1.0, 'Cost function using Gradient Descent')"
      ]
     },
     "execution_count": 5,
     "metadata": {},
     "output_type": "execute_result"
    },
    {
     "data": {
      "image/png": "[encoded data removed]",
      "text/plain": [
       "<Figure size 432x288 with 1 Axes>"
      ]
     },
     "metadata": {
      "needs_background": "light"
     },
     "output_type": "display_data"
    }
   ],
   "source": [
    "iterationsX = np.arange(itrs)\n",
    "plt.plot(iterationsX, cost)\n",
    "plt.xlabel(\"Iteration\")\n",
    "plt.ylabel(\"$J(\\Theta)$\")\n",
    "plt.title(\"Cost function using Gradient Descent\")"
   ]
  },
  {
   "cell_type": "markdown",
   "metadata": {},
   "source": [
    "## Part 2: Logistic Regression"
   ]
  },
  {
   "cell_type": "markdown",
   "metadata": {},
   "source": [
    "### Get Data"
   ]
  },
  {
   "cell_type": "code",
   "execution_count": 6,
   "metadata": {},
   "outputs": [
    {
     "name": "stdout",
     "output_type": "stream",
     "text": [
      "34.62365962451697\n",
      "78.0246928153624\n",
      "30.28671076822607\n",
      "43.89499752400101\n",
      "35.84740876993872\n",
      "72.90219802708364\n",
      "45.08327747668339\n",
      "56.3163717815305\n",
      "95.86155507093572\n",
      "38.22527805795094\n",
      "75.01365838958247\n",
      "30.60326323428011\n",
      "39.53833914367223\n",
      "76.03681085115882\n",
      "67.94685547711617\n",
      "46.67857410673128\n",
      "67.37202754570876\n",
      "42.83843832029179\n",
      "50.534788289883\n",
      "48.85581152764205\n",
      "34.21206097786789\n",
      "44.20952859866288\n",
      "93.114388797442\n",
      "38.80067033713209\n",
      "61.83020602312595\n",
      "50.25610789244621\n",
      "38.78580379679423\n",
      "64.99568095539578\n",
      "52.10797973193984\n",
      "63.12762376881715\n",
      "40.23689373545111\n",
      "71.16774802184875\n",
      "54.63510555424817\n",
      "52.21388588061123\n",
      "33.91550010906887\n",
      "98.86943574220611\n",
      "74.78925295941542\n",
      "41.57341522824434\n",
      "34.1836400264419\n",
      "75.2377203360134\n",
      "51.54772026906181\n",
      "46.85629026349976\n",
      "82.36875375713919\n",
      "40.61825515970618\n",
      "51.04775177128865\n",
      "45.82270145776001\n",
      "62.22267576120188\n",
      "52.06099194836679\n",
      "34.52451385320009\n",
      "60.39634245837173\n",
      "50.2864961189907\n",
      "49.80453881323059\n",
      "49.58667721632031\n",
      "59.80895099453265\n",
      "32.57720016809309\n",
      "95.59854761387875\n",
      "35.28611281526193\n",
      "47.02051394723416\n",
      "56.25381749711624\n",
      "39.26147251058019\n",
      "30.05882244669796\n",
      "49.59297386723685\n",
      "44.66826172480893\n",
      "66.45008614558913\n",
      "66.56089447242954\n",
      "41.09209807936973\n",
      "49.07256321908844\n",
      "51.88321182073966\n",
      "32.72283304060323\n",
      "43.30717306430063\n",
      "60.45555629271532\n",
      "42.50840943572217\n",
      "82.22666157785568\n",
      "42.71987853716458\n",
      "42.0754545384731\n",
      "78.84478600148043\n",
      "52.34800398794107\n",
      "60.76950525602592\n",
      "55.48216114069585\n",
      "35.57070347228866\n"
     ]
    }
   ],
   "source": [
    "class0 = [[],[]]\n",
    "class1 = [[],[]]\n",
    "X = []\n",
    "y = []\n",
    "     \n",
    "# Reading the data file\n",
    "file2 = open(\"ex2data1.mat\", \"r\")\n",
    "for line in file2.readlines():\n",
    "    ftrs = line.strip(\"\\n\").split(\",\")\n",
    "    \n",
    "    X.append([float(ftrs[0]), float(ftrs[1])])\n",
    "    y.append(int(ftrs[2]))\n",
    "    \n",
    "    if ftrs[2] == \"0\":\n",
    "        for i in range(2):\n",
    "            print(ftrs[i])\n",
    "            class0[i].append(float(ftrs[i]))     \n",
    "    else:\n",
    "        for i in range(2):\n",
    "            class1[i].append(float(ftrs[i]))\n",
    "            \n",
    "class0 = np.array(class0)\n",
    "class1 = np.array(class1)\n",
    "X = np.array(X)\n",
    "y = np.array(y)\n",
    "X_b = np.c_[np.ones((X.shape[0], 1)), X]"
   ]
  },
  {
   "cell_type": "markdown",
   "metadata": {},
   "source": [
    "### Visualize Data"
   ]
  },
  {
   "cell_type": "code",
   "execution_count": 7,
   "metadata": {
    "scrolled": false
   },
   "outputs": [
    {
     "data": {
      "text/plain": [
       "<matplotlib.legend.Legend at 0x11ed3fcf8>"
      ]
     },
     "execution_count": 7,
     "metadata": {},
     "output_type": "execute_result"
    },
    {
     "data": {
      "image/png": "[encoded data removed]",
      "text/plain": [
       "<Figure size 432x288 with 1 Axes>"
      ]
     },
     "metadata": {
      "needs_background": "light"
     },
     "output_type": "display_data"
    }
   ],
   "source": [
    "plt.plot(class0[0], class0[1], \"r.\", label = \"0\")\n",
    "plt.plot(class1[0], class1[1], \"g.\", label = \"1\")\n",
    "plt.legend()"
   ]
  },
  {
   "cell_type": "markdown",
   "metadata": {},
   "source": [
    "### Sigmoid Function"
   ]
  },
  {
   "cell_type": "code",
   "execution_count": 8,
   "metadata": {},
   "outputs": [],
   "source": [
    "def sigmoid(z):\n",
    "    return 1/ (1 + np.exp(-z))"
   ]
  },
  {
   "cell_type": "code",
   "execution_count": 9,
   "metadata": {},
   "outputs": [],
   "source": [
    "newX = (X - np.mean(X,axis=0))/np.std(X,axis=0)\n",
    "\n",
    "X_b = np.append(np.ones((newX.shape[0],1)),newX,axis=1)\n",
    "y = y.reshape(X_b.shape[0],1)\n",
    "theta = np.zeros((X_b.shape[1],1))\n",
    "\n",
    "predictions = sigmoid(np.dot(X_b,theta))\n",
    "error = (-y * np.log(predictions)) - ((1-y)*np.log(1-predictions))\n",
    "cost = 1/len(y) * sum(error)\n",
    "grad = 1/len(y) * np.dot(X_b.transpose(),(predictions - y))\n",
    "\n",
    "itrs = 1000\n",
    "lRate = 0.1\n",
    "costList =[]  "
   ]
  },
  {
   "cell_type": "markdown",
   "metadata": {},
   "source": [
    "### Vectorizing the Cost Function & Gradient"
   ]
  },
  {
   "cell_type": "code",
   "execution_count": 10,
   "metadata": {},
   "outputs": [],
   "source": [
    "for i in range(itrs):\n",
    "    predictions = sigmoid(np.dot(X_b,theta))\n",
    "    error = (-y * np.log(predictions)) - ((1-y)*np.log(1-predictions))\n",
    "    cost = 1/len(y) * sum(error)\n",
    "    grad = 1/len(y) * np.dot(X_b.transpose(),(predictions - y))\n",
    "    theta = theta - (lRate * grad)\n",
    "    costList.append(cost)"
   ]
  },
  {
   "cell_type": "code",
   "execution_count": 11,
   "metadata": {
    "scrolled": false
   },
   "outputs": [
    {
     "name": "stdout",
     "output_type": "stream",
     "text": [
      "Optimized theta is: [[1.2713074 ]\n",
      " [3.04859891]\n",
      " [2.81285428]]\n"
     ]
    }
   ],
   "source": [
    "print(\"Optimized theta is:\", theta)"
   ]
  },
  {
   "cell_type": "markdown",
   "metadata": {},
   "source": [
    "### Graph of Cost Function"
   ]
  },
  {
   "cell_type": "code",
   "execution_count": 12,
   "metadata": {
    "scrolled": true
   },
   "outputs": [
    {
     "data": {
      "text/plain": [
       "Text(0.5, 1.0, 'Cost function using Gradient Descent')"
      ]
     },
     "execution_count": 12,
     "metadata": {},
     "output_type": "execute_result"
    },
    {
     "data": {
      "image/png": "[encoded data removed]",
      "text/plain": [
       "<Figure size 432x288 with 1 Axes>"
      ]
     },
     "metadata": {
      "needs_background": "light"
     },
     "output_type": "display_data"
    }
   ],
   "source": [
    "plt.plot(costList)\n",
    "plt.xlabel(\"Iteration\")\n",
    "plt.ylabel(\"$J(\\Theta)$\")\n",
    "plt.title(\"Cost function using Gradient Descent\")"
   ]
  },
  {
   "cell_type": "markdown",
   "metadata": {},
   "source": [
    "### Decision Boundary & Input Data Plot"
   ]
  },
  {
   "cell_type": "code",
   "execution_count": 13,
   "metadata": {},
   "outputs": [
    {
     "data": {
      "text/plain": [
       "<matplotlib.legend.Legend at 0x11fae1b00>"
      ]
     },
     "execution_count": 13,
     "metadata": {},
     "output_type": "execute_result"
    },
    {
     "data": {
      "image/png": "[encoded data removed]",
      "text/plain": [
       "<Figure size 432x288 with 1 Axes>"
      ]
     },
     "metadata": {
      "needs_background": "light"
     },
     "output_type": "display_data"
    }
   ],
   "source": [
    "X_b = np.delete(X_b, 0, 1)\n",
    "X_b = np.append(X_b, y, axis = 1)\n",
    "\n",
    "newClass0 = [[],[]]\n",
    "newClass1 = [[],[]]\n",
    "\n",
    "for i in X_b:\n",
    "    if int(i[2]) == 0:\n",
    "        for j in range(2):\n",
    "            newClass0[j].append(float(i[j]))     \n",
    "    else:\n",
    "        for j in range(2):\n",
    "            newClass1[j].append(float(i[j]))\n",
    "            \n",
    "plt.plot(newClass0[0], newClass0[1], \"r.\", label = \"0\")\n",
    "plt.plot(newClass1[0], newClass1[1], \"g.\", label = \"1\")\n",
    "plotX= np.array([np.min(X_b[:,1]),np.max(X_b[:,1])])\n",
    "plotY=-(theta[0] +theta[1]*plotX)/theta[2]\n",
    "plt.plot(plotX,plotY, \"b\")\n",
    "plt.legend()"
   ]
  },
  {
   "cell_type": "markdown",
   "metadata": {},
   "source": [
    "## Part 3: Regularized Logistic Regression"
   ]
  },
  {
   "cell_type": "markdown",
   "metadata": {},
   "source": [
    "### Get Data"
   ]
  },
  {
   "cell_type": "code",
   "execution_count": 14,
   "metadata": {},
   "outputs": [],
   "source": [
    "class0 = [[],[]]\n",
    "class1 = [[],[]]\n",
    "X = []\n",
    "y = []\n",
    "     \n",
    "# Reading the data file\n",
    "file3 = open(\"ex2data2.mat\", \"r\")\n",
    "for line in file3.readlines():\n",
    "    ftrs = line.strip(\"\\n\").split(\",\")\n",
    "    \n",
    "    X.append([float(ftrs[0]), float(ftrs[1])])\n",
    "    y.append(int(ftrs[2]))\n",
    "    \n",
    "    if ftrs[2] == \"0\":\n",
    "        for i in range(2):\n",
    "            class0[i].append(float(ftrs[i]))     \n",
    "    else:\n",
    "        for i in range(2):\n",
    "            class1[i].append(float(ftrs[i]))\n",
    "            \n",
    "class0 = np.array(class0)\n",
    "class1 = np.array(class1)\n",
    "X = np.array(X)\n",
    "y = np.array(y)\n",
    "X_b = np.c_[np.ones((X.shape[0], 1)), X]"
   ]
  },
  {
   "cell_type": "markdown",
   "metadata": {},
   "source": [
    "### Visualize Data"
   ]
  },
  {
   "cell_type": "code",
   "execution_count": 15,
   "metadata": {
    "scrolled": true
   },
   "outputs": [
    {
     "data": {
      "text/plain": [
       "<matplotlib.legend.Legend at 0x11fb8bbe0>"
      ]
     },
     "execution_count": 15,
     "metadata": {},
     "output_type": "execute_result"
    },
    {
     "data": {
      "image/png": "[encoded data removed]",
      "text/plain": [
       "<Figure size 432x288 with 1 Axes>"
      ]
     },
     "metadata": {
      "needs_background": "light"
     },
     "output_type": "display_data"
    }
   ],
   "source": [
    "plt.plot(class0[0], class0[1], \"y.\", label = \"0\", marker=\"s\")\n",
    "plt.plot(class1[0], class1[1], \"m.\", label = \"1\", marker=\"v\")\n",
    "plt.legend()"
   ]
  },
  {
   "cell_type": "markdown",
   "metadata": {},
   "source": [
    "### Vectorizing Cost Function & Gradient"
   ]
  },
  {
   "cell_type": "code",
   "execution_count": 16,
   "metadata": {},
   "outputs": [],
   "source": [
    "def costFunction(theta, X, y, Lambda, m, pred):\n",
    "    return (1/m * sum((-y * np.log(pred)) - ((1-y)*np.log(1-pred)))) + Lambda/(2*m) * sum(theta**2)\n",
    "\n",
    "def gradient(theta, X, y, Lambda, m, pred):\n",
    "    return np.vstack(((1/m * (X.transpose() @ (pred - y))[0])[:,np.newaxis],(1/m * (X.transpose() @ (pred - y))[1:] + (Lambda/m)* theta[1:])))"
   ]
  },
  {
   "cell_type": "markdown",
   "metadata": {},
   "source": [
    "### Feature Mapping"
   ]
  },
  {
   "cell_type": "code",
   "execution_count": 17,
   "metadata": {},
   "outputs": [],
   "source": [
    "def featureMapping(x1, x2, degree):\n",
    "    transform = np.ones(len(x1)).reshape(len(x1),1)\n",
    "    \n",
    "    for i in range(1,degree+1):\n",
    "        for j in range(i+1):\n",
    "            transform = np.hstack((transform, (x1**(i-j) * x2**j).reshape(len(x1),1)))\n",
    "            \n",
    "    return transform\n",
    "\n",
    "X = featureMapping(X[:,0], X[:,1],6)"
   ]
  },
  {
   "cell_type": "code",
   "execution_count": 18,
   "metadata": {},
   "outputs": [],
   "source": [
    "theta = np.zeros((X.shape[1], 1))\n",
    "Lambda = 1\n",
    "cost = costFunction(theta, X, y[:,np.newaxis], Lambda, len(y), sigmoid(X @ theta))\n",
    "grad= gradient(theta, X, y[:,np.newaxis], Lambda, len(y), sigmoid(X @ theta))"
   ]
  },
  {
   "cell_type": "markdown",
   "metadata": {},
   "source": [
    "### Calculate Theta"
   ]
  },
  {
   "cell_type": "code",
   "execution_count": 19,
   "metadata": {},
   "outputs": [],
   "source": [
    "costList =[]\n",
    "lRate = 1\n",
    "itrs = 2000\n",
    "Lambda = 0.2\n",
    "\n",
    "for i in range(itrs):\n",
    "    cost = costFunction(theta, X, y[:,np.newaxis], Lambda, len(y), sigmoid(X @ theta))\n",
    "    grad= gradient(theta, X, y[:,np.newaxis], Lambda, len(y), sigmoid(X @ theta))\n",
    "    theta = theta - (lRate * grad)\n",
    "    costList.append(cost)"
   ]
  },
  {
   "cell_type": "markdown",
   "metadata": {},
   "source": [
    "### Graph of Cost Function"
   ]
  },
  {
   "cell_type": "code",
   "execution_count": 20,
   "metadata": {
    "scrolled": true
   },
   "outputs": [
    {
     "data": {
      "text/plain": [
       "Text(0, 0.5, '$J(\\\\Theta)$')"
      ]
     },
     "execution_count": 20,
     "metadata": {},
     "output_type": "execute_result"
    },
    {
     "data": {
      "image/png": "[encoded data removed]",
      "text/plain": [
       "<Figure size 432x288 with 1 Axes>"
      ]
     },
     "metadata": {
      "needs_background": "light"
     },
     "output_type": "display_data"
    }
   ],
   "source": [
    "plt.plot(costList)\n",
    "plt.xlabel(\"Iteration\")\n",
    "plt.ylabel(\"$J(\\Theta)$\")"
   ]
  },
  {
   "cell_type": "markdown",
   "metadata": {},
   "source": [
    "### Plot with Decision Boundary"
   ]
  },
  {
   "cell_type": "code",
   "execution_count": 21,
   "metadata": {},
   "outputs": [],
   "source": [
    "def ftPlot(x1,x2,degree):\n",
    "    transform = np.ones(1)\n",
    "\n",
    "    for i in range(1,degree+1):\n",
    "        for j in range(i+1):\n",
    "            transform = np.hstack((transform,(x1**(i-j) * x2**j)))\n",
    "            \n",
    "    return transform\n",
    "\n",
    "e = np.linspace(-1,1.5,50)\n",
    "f = np.linspace(-1,1.5,50)\n",
    "contourZ = np.zeros((len(e),len(f)))\n",
    "\n",
    "for i in range(len(e)):\n",
    "    for j in range(len(f)):\n",
    "        contourZ[i,j] = ftPlot(e[i],f[j],6) @ theta "
   ]
  },
  {
   "cell_type": "code",
   "execution_count": 22,
   "metadata": {},
   "outputs": [
    {
     "data": {
      "text/plain": [
       "<matplotlib.legend.Legend at 0x1201cafd0>"
      ]
     },
     "execution_count": 22,
     "metadata": {},
     "output_type": "execute_result"
    },
    {
     "data": {
      "image/png": "[encoded data removed]",
      "text/plain": [
       "<Figure size 432x288 with 1 Axes>"
      ]
     },
     "metadata": {
      "needs_background": "light"
     },
     "output_type": "display_data"
    }
   ],
   "source": [
    "plt.plot(class0[0], class0[1], \"y.\", label = \"0\", marker=\"s\")\n",
    "plt.plot(class1[0], class1[1], \"m.\", label = \"1\", marker=\"v\")\n",
    "\n",
    "plt.contour(e,f,contourZ.T,0)\n",
    "plt.legend(loc=0)"
   ]
  }
 ],
 "metadata": {
  "kernelspec": {
   "display_name": "Python 3",
   "language": "python",
   "name": "python3"
  },
  "language_info": {
   "codemirror_mode": {
    "name": "ipython",
    "version": 3
   },
   "file_extension": ".py",
   "mimetype": "text/x-python",
   "name": "python",
   "nbconvert_exporter": "python",
   "pygments_lexer": "ipython3",
   "version": "3.7.1"
  }
 },
 "nbformat": 4,
 "nbformat_minor": 2
}
